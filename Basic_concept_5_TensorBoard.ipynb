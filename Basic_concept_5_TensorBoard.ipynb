{
 "cells": [
  {
   "cell_type": "code",
   "execution_count": 1,
   "metadata": {},
   "outputs": [
    {
     "name": "stderr",
     "output_type": "stream",
     "text": [
      "/anaconda3/lib/python3.6/site-packages/tensorboard/compat/tensorflow_stub/dtypes.py:541: FutureWarning: Passing (type, 1) or '1type' as a synonym of type is deprecated; in a future version of numpy, it will be understood as (type, (1,)) / '(1,)type'.\n",
      "  _np_qint8 = np.dtype([(\"qint8\", np.int8, 1)])\n",
      "/anaconda3/lib/python3.6/site-packages/tensorboard/compat/tensorflow_stub/dtypes.py:542: FutureWarning: Passing (type, 1) or '1type' as a synonym of type is deprecated; in a future version of numpy, it will be understood as (type, (1,)) / '(1,)type'.\n",
      "  _np_quint8 = np.dtype([(\"quint8\", np.uint8, 1)])\n",
      "/anaconda3/lib/python3.6/site-packages/tensorboard/compat/tensorflow_stub/dtypes.py:543: FutureWarning: Passing (type, 1) or '1type' as a synonym of type is deprecated; in a future version of numpy, it will be understood as (type, (1,)) / '(1,)type'.\n",
      "  _np_qint16 = np.dtype([(\"qint16\", np.int16, 1)])\n",
      "/anaconda3/lib/python3.6/site-packages/tensorboard/compat/tensorflow_stub/dtypes.py:544: FutureWarning: Passing (type, 1) or '1type' as a synonym of type is deprecated; in a future version of numpy, it will be understood as (type, (1,)) / '(1,)type'.\n",
      "  _np_quint16 = np.dtype([(\"quint16\", np.uint16, 1)])\n",
      "/anaconda3/lib/python3.6/site-packages/tensorboard/compat/tensorflow_stub/dtypes.py:545: FutureWarning: Passing (type, 1) or '1type' as a synonym of type is deprecated; in a future version of numpy, it will be understood as (type, (1,)) / '(1,)type'.\n",
      "  _np_qint32 = np.dtype([(\"qint32\", np.int32, 1)])\n",
      "/anaconda3/lib/python3.6/site-packages/tensorboard/compat/tensorflow_stub/dtypes.py:550: FutureWarning: Passing (type, 1) or '1type' as a synonym of type is deprecated; in a future version of numpy, it will be understood as (type, (1,)) / '(1,)type'.\n",
      "  np_resource = np.dtype([(\"resource\", np.ubyte, 1)])\n",
      "WARNING:root:This caffe2 python run does not have GPU support. Will run in CPU only mode.\n"
     ]
    }
   ],
   "source": [
    "import numpy as np\n",
    "import torch\n",
    "import torch.nn as nn\n",
    "from torch.nn import MSELoss\n",
    "import torch.nn.functional as F\n",
    "from torch.utils.data import DataLoader, TensorDataset\n",
    "# import\n",
    "from torch.utils.tensorboard import SummaryWriter\n",
    "import torch.optim as optim\n",
    "from tqdm import tqdm, trange\n",
    "import matplotlib.pyplot as plt"
   ]
  },
  {
   "cell_type": "markdown",
   "metadata": {},
   "source": [
    "# Outlines\n",
    "- Tensorboard\n",
    "    - Import package\n",
    "        - `torch.utils.tensorboard.SummaryWriter`\n",
    "        - `tb_writer.add_scalar`\n",
    "        - `tb_writer.add_histogram`\n",
    "    - Start process\n",
    "        - `tensorboard --logdir=runs` where `runs` is a folder created automatically in current directory\n",
    "    - Open interface\n",
    "        - `http://localhost:6006`\n",
    "    - Usage\n",
    "        - \n",
    "- Device by `torch.device`\n",
    "- [Gradient accumulation](https://www.zhihu.com/question/303070254)\n",
    "- `TensorDataset`"
   ]
  },
  {
   "cell_type": "markdown",
   "metadata": {},
   "source": [
    "# Simple regression model from `Basic_project_1_regression`"
   ]
  },
  {
   "cell_type": "markdown",
   "metadata": {},
   "source": [
    "## Data"
   ]
  },
  {
   "cell_type": "code",
   "execution_count": 2,
   "metadata": {},
   "outputs": [],
   "source": [
    "# dummy training data\n",
    "n_samples = 100\n",
    "x_dummy = np.linspace(-3, 3, n_samples)\n",
    "\n",
    "# cos() function\n",
    "y_dummy = np.cos(x_dummy) + np.random.uniform(-3, 3, n_samples)\n",
    "\n",
    "x = torch.tensor(x_dummy).float().view(n_samples, 1)\n",
    "y = torch.tensor(y_dummy).float().view(n_samples, 1)\n",
    "\n",
    "src_data = TensorDataset(x, y)"
   ]
  },
  {
   "cell_type": "markdown",
   "metadata": {},
   "source": [
    "## Model"
   ]
  },
  {
   "cell_type": "code",
   "execution_count": 3,
   "metadata": {},
   "outputs": [
    {
     "data": {
      "text/plain": [
       "RegressionNet(\n",
       "  (hidden): Linear(in_features=1, out_features=10, bias=True)\n",
       "  (output): Linear(in_features=10, out_features=1, bias=True)\n",
       ")"
      ]
     },
     "execution_count": 3,
     "metadata": {},
     "output_type": "execute_result"
    }
   ],
   "source": [
    "class RegressionNet(nn.Module):\n",
    "    def __init__(self, in_features):\n",
    "        super(RegressionNet, self).__init__()\n",
    "        self.hidden = nn.Linear(in_features, 10)\n",
    "        self.output = nn.Linear(10, 1)\n",
    "    \n",
    "    def forward(self, x, y=None):\n",
    "        x = F.relu(self.hidden(x))\n",
    "        logits = self.output(x)\n",
    "        outputs = (logits,)\n",
    "        if y is not None:\n",
    "            criterion = MSELoss()\n",
    "            loss = criterion(logits, y)\n",
    "            outputs = outputs + (loss,)\n",
    "        return outputs\n",
    "\n",
    "\n",
    "# model\n",
    "# if gpu is available\n",
    "device = torch.device('cuda' if torch.cuda.is_available() else 'cpu')\n",
    "model = RegressionNet(1)\n",
    "model.to(device)"
   ]
  },
  {
   "cell_type": "markdown",
   "metadata": {},
   "source": [
    "## Train and predict"
   ]
  },
  {
   "cell_type": "code",
   "execution_count": 4,
   "metadata": {},
   "outputs": [
    {
     "name": "stderr",
     "output_type": "stream",
     "text": [
      "Epoch:   0%|          | 0/30 [00:00<?, ?it/s]\n",
      "Iteration:   0%|          | 0/2 [00:00<?, ?it/s]\u001b[A\n",
      "Iteration: 100%|██████████| 2/2 [00:00<00:00, 147.50it/s]\u001b[A\n",
      "Iteration:   0%|          | 0/2 [00:00<?, ?it/s]\u001b[A\n",
      "Iteration: 100%|██████████| 2/2 [00:00<00:00, 415.03it/s]\u001b[A\n",
      "Iteration:   0%|          | 0/2 [00:00<?, ?it/s]\u001b[A\n",
      "Iteration: 100%|██████████| 2/2 [00:00<00:00, 367.99it/s]\u001b[A\n",
      "Iteration:   0%|          | 0/2 [00:00<?, ?it/s]\u001b[A\n",
      "Epoch:  13%|█▎        | 4/30 [00:00<00:00, 31.19it/s]t/s]\u001b[A\n",
      "Iteration:   0%|          | 0/2 [00:00<?, ?it/s]\u001b[A\n",
      "Iteration: 100%|██████████| 2/2 [00:00<00:00, 242.99it/s]\u001b[A\n",
      "Iteration:   0%|          | 0/2 [00:00<?, ?it/s]\u001b[A\n",
      "Iteration: 100%|██████████| 2/2 [00:00<00:00, 245.28it/s]\u001b[A\n",
      "Iteration:   0%|          | 0/2 [00:00<?, ?it/s]\u001b[A\n",
      "Epoch:  23%|██▎       | 7/30 [00:00<00:00, 30.21it/s]t/s]\u001b[A\n",
      "Iteration:   0%|          | 0/2 [00:00<?, ?it/s]\u001b[A\n",
      "Iteration: 100%|██████████| 2/2 [00:00<00:00, 397.77it/s]\u001b[A\n",
      "Iteration:   0%|          | 0/2 [00:00<?, ?it/s]\u001b[A\n",
      "Iteration: 100%|██████████| 2/2 [00:00<00:00, 355.95it/s]\u001b[A\n",
      "Iteration:   0%|          | 0/2 [00:00<?, ?it/s]\u001b[A\n",
      "Iteration: 100%|██████████| 2/2 [00:00<00:00, 342.94it/s]\u001b[A\n",
      "Iteration:   0%|          | 0/2 [00:00<?, ?it/s]\u001b[A\n",
      "Epoch:  37%|███▋      | 11/30 [00:00<00:00, 30.94it/s]/s]\u001b[A\n",
      "Iteration:   0%|          | 0/2 [00:00<?, ?it/s]\u001b[A\n",
      "Iteration: 100%|██████████| 2/2 [00:00<00:00, 183.98it/s]\u001b[A\n",
      "Iteration:   0%|          | 0/2 [00:00<?, ?it/s]\u001b[A\n",
      "Iteration: 100%|██████████| 2/2 [00:00<00:00, 215.01it/s]\u001b[A\n",
      "Iteration:   0%|          | 0/2 [00:00<?, ?it/s]\u001b[A\n",
      "Iteration: 100%|██████████| 2/2 [00:00<00:00, 282.65it/s]\u001b[A\n",
      "Iteration:   0%|          | 0/2 [00:00<?, ?it/s]\u001b[A\n",
      "Epoch:  50%|█████     | 15/30 [00:00<00:00, 31.09it/s]/s]\u001b[A\n",
      "Iteration:   0%|          | 0/2 [00:00<?, ?it/s]\u001b[A\n",
      "Iteration: 100%|██████████| 2/2 [00:00<00:00, 270.35it/s]\u001b[A\n",
      "Iteration:   0%|          | 0/2 [00:00<?, ?it/s]\u001b[A\n",
      "Iteration: 100%|██████████| 2/2 [00:00<00:00, 364.37it/s]\u001b[A\n",
      "Iteration:   0%|          | 0/2 [00:00<?, ?it/s]\u001b[A\n",
      "Iteration: 100%|██████████| 2/2 [00:00<00:00, 378.22it/s]\u001b[A\n",
      "Iteration:   0%|          | 0/2 [00:00<?, ?it/s]\u001b[A\n",
      "Epoch:  63%|██████▎   | 19/30 [00:00<00:00, 31.81it/s]/s]\u001b[A\n",
      "Iteration:   0%|          | 0/2 [00:00<?, ?it/s]\u001b[A\n",
      "Iteration: 100%|██████████| 2/2 [00:00<00:00, 302.71it/s]\u001b[A\n",
      "Iteration:   0%|          | 0/2 [00:00<?, ?it/s]\u001b[A\n",
      "Iteration: 100%|██████████| 2/2 [00:00<00:00, 279.53it/s]\u001b[A\n",
      "Iteration:   0%|          | 0/2 [00:00<?, ?it/s]\u001b[A\n",
      "Epoch:  73%|███████▎  | 22/30 [00:00<00:00, 30.59it/s]/s]\u001b[A\n",
      "Iteration:   0%|          | 0/2 [00:00<?, ?it/s]\u001b[A\n",
      "Iteration: 100%|██████████| 2/2 [00:00<00:00, 272.83it/s]\u001b[A\n",
      "Iteration:   0%|          | 0/2 [00:00<?, ?it/s]\u001b[A\n",
      "Iteration: 100%|██████████| 2/2 [00:00<00:00, 406.35it/s]\u001b[A\n",
      "Iteration:   0%|          | 0/2 [00:00<?, ?it/s]\u001b[A\n",
      "Epoch:  83%|████████▎ | 25/30 [00:00<00:00, 30.27it/s]/s]\u001b[A\n",
      "Iteration:   0%|          | 0/2 [00:00<?, ?it/s]\u001b[A\n",
      "Iteration: 100%|██████████| 2/2 [00:00<00:00, 265.68it/s]\u001b[A\n",
      "Iteration:   0%|          | 0/2 [00:00<?, ?it/s]\u001b[A\n",
      "Iteration: 100%|██████████| 2/2 [00:00<00:00, 338.41it/s]\u001b[A\n",
      "Iteration:   0%|          | 0/2 [00:00<?, ?it/s]\u001b[A\n",
      "Epoch:  93%|█████████▎| 28/30 [00:00<00:00, 29.67it/s]/s]\u001b[A\n",
      "Iteration:   0%|          | 0/2 [00:00<?, ?it/s]\u001b[A\n",
      "Iteration: 100%|██████████| 2/2 [00:00<00:00, 209.44it/s]\u001b[A\n",
      "Iteration:   0%|          | 0/2 [00:00<?, ?it/s]\u001b[A\n",
      "Epoch: 100%|██████████| 30/30 [00:00<00:00, 30.47it/s]/s]\u001b[A\n"
     ]
    },
    {
     "data": {
      "image/png": "[encoded data removed]",
      "text/plain": [
       "<Figure size 432x288 with 1 Axes>"
      ]
     },
     "metadata": {},
     "output_type": "display_data"
    }
   ],
   "source": [
    "# data\n",
    "tb_writer = SummaryWriter(comment='summary writer')\n",
    "#tb_writer.add_graph(model)\n",
    "train_dataloader = DataLoader(src_data, batch_size=50)\n",
    "\n",
    "optimizer = optim.SGD(model.parameters(), lr=0.01)\n",
    "\n",
    "global_step = 0\n",
    "# gradient accumulation\n",
    "gradient_accumulation_steps = 2\n",
    "model.zero_grad()\n",
    "train_iterator = trange(30, desc='Epoch')\n",
    "for epoch in train_iterator:\n",
    "    epoch_iterator = tqdm(train_dataloader, desc='Iteration')\n",
    "    for step, batch in enumerate(epoch_iterator):\n",
    "        model.train()\n",
    "        batch = tuple(t.to(device) for t in batch)\n",
    "        inputs = {'x': batch[0],\n",
    "                  'y': batch[1]}\n",
    "        outputs = model(**inputs)\n",
    "        loss = outputs[1]\n",
    "        loss = loss / gradient_accumulation_steps\n",
    "        # backward to compute gradients\n",
    "        loss.backward()\n",
    "        nn.utils.clip_grad_norm_(model.parameters(), 5.0)\n",
    "        \n",
    "        if (step + 1) % gradient_accumulation_steps == 0:\n",
    "            optimizer.step()\n",
    "            model.zero_grad()\n",
    "            global_step += 1\n",
    "            # item() to get a number from a tensor containing a single value\n",
    "            tb_writer.add_scalar('loss', loss.item(), global_step)\n",
    "    for name, param in model.named_parameters():\n",
    "        tb_writer.add_histogram(name, param, epoch)\n",
    "        tb_writer.add_histogram(f'{name}.grad', param.grad, epoch)\n",
    "    \n",
    "tb_writer.close()\n",
    "model.eval()\n",
    "inputs = {'x': x}\n",
    "outputs = model(**inputs)\n",
    "predictions = outputs[0]\n",
    "plt.scatter(x.numpy(), y.numpy())\n",
    "plt.plot(x.numpy(), predictions.data.numpy(), 'r', lw=2)\n",
    "plt.show()"
   ]
  },
  {
   "cell_type": "code",
   "execution_count": null,
   "metadata": {},
   "outputs": [],
   "source": []
  }
 ],
 "metadata": {
  "kernelspec": {
   "display_name": "Python 3",
   "language": "python",
   "name": "python3"
  },
  "language_info": {
   "codemirror_mode": {
    "name": "ipython",
    "version": 3
   },
   "file_extension": ".py",
   "mimetype": "text/x-python",
   "name": "python",
   "nbconvert_exporter": "python",
   "pygments_lexer": "ipython3",
   "version": "3.6.8"
  }
 },
 "nbformat": 4,
 "nbformat_minor": 2
}
