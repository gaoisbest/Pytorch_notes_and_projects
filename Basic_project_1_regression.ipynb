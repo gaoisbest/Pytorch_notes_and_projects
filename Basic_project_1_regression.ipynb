{
 "cells": [
  {
   "cell_type": "code",
   "execution_count": 1,
   "metadata": {},
   "outputs": [],
   "source": [
    "%matplotlib inline\n",
    "import torch\n",
    "import torch.nn as nn\n",
    "import torch.nn.functional as F\n",
    "import torch.optim as optim\n",
    "\n",
    "import numpy as np\n",
    "import matplotlib.pyplot as plt"
   ]
  },
  {
   "cell_type": "markdown",
   "metadata": {},
   "source": [
    "Define the model:\n",
    "- inherit from `nn.Module`\n",
    "    - `super(ModelName, self).__init__()`\n",
    "- `forward` to predict\n",
    "- `modelName = ModelName(); print(modelName)` lists model layers\n",
    "- `print(list(modelName.parameters()))` lists all learnable parameters\n",
    "- `modelName.named_parameters()` gives `name` and `param` \n",
    "\n",
    "Training:\n",
    "- `modelName.zero_grad()`: zeroes the gradient buffers of all parameters\n",
    "- `loss.backward()`: backpropagate the errors\n",
    "- `optimizer.step()`: update the parameters"
   ]
  },
  {
   "cell_type": "markdown",
   "metadata": {},
   "source": [
    "# Regression"
   ]
  },
  {
   "cell_type": "code",
   "execution_count": 2,
   "metadata": {},
   "outputs": [
    {
     "name": "stdout",
     "output_type": "stream",
     "text": [
      "x size:torch.Size([100, 1]), y size:torch.Size([100, 1])\n",
      "x type: <class 'torch.Tensor'>\n"
     ]
    }
   ],
   "source": [
    "# dummy training data\n",
    "n_samples = 100\n",
    "x_dummy = np.linspace(-3, 3, n_samples)\n",
    "\n",
    "# linear function\n",
    "# y_dummy = 3 * x_dummy + 5 + np.random.uniform(-5, 5, n_samples) # with random noise\n",
    "\n",
    "# cos() function\n",
    "y_dummy = np.cos(x_dummy) + np.random.uniform(-3, 3, n_samples)\n",
    "\n",
    "# 64-bit floating numpy array and will be converted to torch.DoubleTensor standardly\n",
    "# https://stackoverflow.com/questions/44717100/pytorch-convert-floattensor-into-doubletensor\n",
    "x = torch.from_numpy(x_dummy).float().view(n_samples, 1)\n",
    "# also ok\n",
    "# x_copy = torch.unsqueeze(torch.from_numpy(x_dummy), dim=1)\n",
    "\n",
    "y = torch.from_numpy(y_dummy).float().view(n_samples, 1)\n",
    "\n",
    "print('x size:{}, y size:{}'.format(x.size(), y.size()))\n",
    "print('x type:', type(x))"
   ]
  },
  {
   "cell_type": "code",
   "execution_count": 3,
   "metadata": {},
   "outputs": [
    {
     "name": "stdout",
     "output_type": "stream",
     "text": [
      "RegressionNet(\n",
      "  (hidden): Linear(in_features=1, out_features=10, bias=True)\n",
      "  (output): Linear(in_features=10, out_features=1, bias=True)\n",
      ")\n"
     ]
    },
    {
     "data": {
      "image/png": "[encoded data removed]",
      "text/plain": [
       "<matplotlib.figure.Figure at 0x10b1cbb00>"
      ]
     },
     "metadata": {},
     "output_type": "display_data"
    },
    {
     "name": "stdout",
     "output_type": "stream",
     "text": [
      "hidden.weight tensor([[ 0.3407],\n",
      "        [ 0.8973],\n",
      "        [-0.0497],\n",
      "        [-0.8285],\n",
      "        [ 0.8495],\n",
      "        [-1.2315],\n",
      "        [-0.6346],\n",
      "        [-0.5862],\n",
      "        [ 0.7030],\n",
      "        [ 0.4085]])\n",
      "hidden.bias tensor([ 0.0021,  0.0199, -0.8731, -0.0420, -0.5967, -0.7090,  0.7882,\n",
      "         0.9019,  0.2520,  0.0789])\n",
      "output.weight tensor([[-0.0419, -0.4103, -0.0256, -0.6678, -0.4946, -0.7483,  0.1502,\n",
      "          0.2610,  0.2080, -0.1106]])\n",
      "output.bias tensor([ 0.7119])\n"
     ]
    }
   ],
   "source": [
    "class RegressionNet(nn.Module):\n",
    "    def __init__(self, in_features):\n",
    "        # default first clause\n",
    "        super(RegressionNet, self).__init__()\n",
    "        self.hidden = nn.Linear(in_features, 10)\n",
    "        self.output = nn.Linear(10, 1)\n",
    "    \n",
    "    def forward(self, x):\n",
    "        x = F.relu(self.hidden(x))\n",
    "        x = self.output(x)\n",
    "        return x\n",
    "        \n",
    "regressionNet = RegressionNet(1)\n",
    "print(regressionNet)\n",
    "    \n",
    "loss_func = nn.MSELoss()\n",
    "optimizer = optim.SGD(regressionNet.parameters(), lr=0.01)\n",
    "\n",
    "for i in range(1000):\n",
    "    regressionNet.zero_grad()\n",
    "    predictions = regressionNet(x)\n",
    "    loss = loss_func(predictions, y)\n",
    "    #print('step: {}, loss: {}'.format(i, loss))\n",
    "    loss.backward()\n",
    "    optimizer.step()\n",
    "    \n",
    "\n",
    "plt.scatter(x.data.numpy(), y.data.numpy())\n",
    "plt.plot(x.data.numpy(), predictions.data.numpy(), 'r', lw=2)\n",
    "plt.show()\n",
    "\n",
    "# print model name\n",
    "for name, param in regressionNet.named_parameters():\n",
    "    if param.requires_grad:\n",
    "        print(name, param.data)"
   ]
  },
  {
   "cell_type": "markdown",
   "metadata": {},
   "source": [
    "# Classification"
   ]
  },
  {
   "cell_type": "code",
   "execution_count": 4,
   "metadata": {},
   "outputs": [
    {
     "ename": "SyntaxError",
     "evalue": "invalid syntax (<ipython-input-4-92976bd7f415>, line 1)",
     "output_type": "error",
     "traceback": [
      "\u001b[0;36m  File \u001b[0;32m\"<ipython-input-4-92976bd7f415>\"\u001b[0;36m, line \u001b[0;32m1\u001b[0m\n\u001b[0;31m    References:\u001b[0m\n\u001b[0m                 ^\u001b[0m\n\u001b[0;31mSyntaxError\u001b[0m\u001b[0;31m:\u001b[0m invalid syntax\n"
     ]
    }
   ],
   "source": [
    "References:  \n",
    "https://pytorch.org/tutorials/beginner/blitz/neural_networks_tutorial.html"
   ]
  }
 ],
 "metadata": {
  "kernelspec": {
   "display_name": "Python 3",
   "language": "python",
   "name": "python3"
  },
  "language_info": {
   "codemirror_mode": {
    "name": "ipython",
    "version": 3
   },
   "file_extension": ".py",
   "mimetype": "text/x-python",
   "name": "python",
   "nbconvert_exporter": "python",
   "pygments_lexer": "ipython3",
   "version": "3.6.4"
  }
 },
 "nbformat": 4,
 "nbformat_minor": 2
}
