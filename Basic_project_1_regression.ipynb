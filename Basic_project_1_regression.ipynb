{
 "cells": [
  {
   "cell_type": "code",
   "execution_count": 1,
   "metadata": {},
   "outputs": [],
   "source": [
    "%matplotlib inline\n",
    "import torch\n",
    "import torch.nn as nn\n",
    "import torch.nn.functional as F\n",
    "import torch.optim as optim\n",
    "\n",
    "import numpy as np\n",
    "import matplotlib.pyplot as plt"
   ]
  },
  {
   "cell_type": "markdown",
   "metadata": {},
   "source": [
    "\n",
    "# Model define pipeline\n",
    "- Step 1: create a neural network class extends the `nn.Module` base class\n",
    "- Step 2: define the **network’s layers** in the constructor `__init__`\n",
    "- Step 3: use the network’s **layer attributes** as well as **operations** from the `nn.functional` to define the network’s **forward** pass\n",
    "\n",
    "# Properties\n",
    "- All layers (such as `nn.linear`) in PyTorch extend the `nn.Module` \n",
    "- In class constructor, `super(ModelName, self).__init__()`\n",
    "- `modelName = ModelName(); print(modelName)` lists model layers\n",
    "- `print(list(modelName.parameters()))` lists all learnable parameters\n",
    "- `modelName.named_parameters()` gives `name` and `param` \n",
    "\n",
    "\n",
    "# Training\n",
    "- `optimizer.zero_grad()`: zeroes the gradient buffers of all parameters\n",
    "- `loss.backward()`: backpropagate the errors\n",
    "- `optimizer.step()`: update the parameters\n",
    "\n",
    "from http://deeplizard.com/learn/video/k4jY9L8H89U"
   ]
  },
  {
   "cell_type": "markdown",
   "metadata": {},
   "source": [
    "# Regression"
   ]
  },
  {
   "cell_type": "code",
   "execution_count": 2,
   "metadata": {},
   "outputs": [
    {
     "name": "stdout",
     "output_type": "stream",
     "text": [
      "x size:torch.Size([100, 1]), y size:torch.Size([100, 1])\n",
      "x type: <class 'torch.Tensor'>\n"
     ]
    }
   ],
   "source": [
    "# dummy training data\n",
    "n_samples = 100\n",
    "x_dummy = np.linspace(-3, 3, n_samples)\n",
    "\n",
    "# linear function\n",
    "# y_dummy = 3 * x_dummy + 5 + np.random.uniform(-5, 5, n_samples) # with random noise\n",
    "\n",
    "# cos() function\n",
    "y_dummy = np.cos(x_dummy) + np.random.uniform(-3, 3, n_samples)\n",
    "\n",
    "# 64-bit floating numpy array and will be converted to torch.DoubleTensor standardly\n",
    "# https://stackoverflow.com/questions/44717100/pytorch-convert-floattensor-into-doubletensor\n",
    "x = torch.tensor(x_dummy).float().view(n_samples, 1)\n",
    "# also ok\n",
    "# x_copy = torch.unsqueeze(torch.from_numpy(x_dummy), dim=1)\n",
    "\n",
    "y = torch.tensor(y_dummy).float().view(n_samples, 1)\n",
    "\n",
    "print('x size:{}, y size:{}'.format(x.size(), y.size()))\n",
    "print('x type:', type(x))"
   ]
  },
  {
   "cell_type": "code",
   "execution_count": 3,
   "metadata": {},
   "outputs": [
    {
     "name": "stdout",
     "output_type": "stream",
     "text": [
      "RegressionNet(\n",
      "  (hidden): Linear(in_features=1, out_features=10, bias=True)\n",
      "  (output): Linear(in_features=10, out_features=1, bias=True)\n",
      ")\n"
     ]
    },
    {
     "data": {
      "image/png": "[encoded data removed]",
      "text/plain": [
       "<matplotlib.figure.Figure at 0x112e7cb38>"
      ]
     },
     "metadata": {},
     "output_type": "display_data"
    },
    {
     "name": "stdout",
     "output_type": "stream",
     "text": [
      "hidden.weight tensor([[ 0.0825],\n",
      "        [ 0.2011],\n",
      "        [-0.9203],\n",
      "        [ 0.2297],\n",
      "        [ 0.7366],\n",
      "        [-0.7626],\n",
      "        [ 0.2474],\n",
      "        [-0.3188],\n",
      "        [-0.5337],\n",
      "        [ 0.0883]])\n",
      "hidden.bias tensor([-0.5601, -0.5791,  0.0835,  0.9245,  0.4244, -0.9008,  0.2807, -0.5121,\n",
      "         0.7157, -0.7008])\n",
      "output.weight tensor([[ 0.1707,  0.1179, -0.6248,  0.3445, -0.5851, -0.4622, -0.1210, -0.2134,\n",
      "          0.2206, -0.0089]])\n",
      "output.bias tensor([0.5637])\n"
     ]
    }
   ],
   "source": [
    "class RegressionNet(nn.Module):\n",
    "    def __init__(self, in_features):\n",
    "        # default first clause\n",
    "        super(RegressionNet, self).__init__()\n",
    "        self.hidden = nn.Linear(in_features, 10)\n",
    "        self.output = nn.Linear(10, 1)\n",
    "    \n",
    "    def forward(self, x):\n",
    "        x = F.relu(self.hidden(x))\n",
    "        x = self.output(x)\n",
    "        return x\n",
    "        \n",
    "regressionNet = RegressionNet(1)\n",
    "print(regressionNet)\n",
    "    \n",
    "criterion = nn.MSELoss()\n",
    "optimizer = optim.SGD(regressionNet.parameters(), lr=0.01)\n",
    "\n",
    "for i in range(1000):\n",
    "    optimizer.zero_grad()\n",
    "    predictions = regressionNet(x)\n",
    "    loss = criterion(predictions, y)\n",
    "    #print('step: {}, loss: {}'.format(i, loss))\n",
    "    loss.backward()\n",
    "    optimizer.step()\n",
    "    \n",
    "\n",
    "plt.scatter(x.numpy(), y.numpy())\n",
    "plt.plot(x.numpy(), predictions.data.numpy(), 'r', lw=2)\n",
    "plt.show()\n",
    "\n",
    "# print model name\n",
    "for name, param in regressionNet.named_parameters():\n",
    "    if param.requires_grad:\n",
    "        print(name, param.data)"
   ]
  },
  {
   "cell_type": "code",
   "execution_count": null,
   "metadata": {},
   "outputs": [],
   "source": []
  }
 ],
 "metadata": {
  "kernelspec": {
   "display_name": "Python 3",
   "language": "python",
   "name": "python3"
  },
  "language_info": {
   "codemirror_mode": {
    "name": "ipython",
    "version": 3
   },
   "file_extension": ".py",
   "mimetype": "text/x-python",
   "name": "python",
   "nbconvert_exporter": "python",
   "pygments_lexer": "ipython3",
   "version": "3.6.4"
  }
 },
 "nbformat": 4,
 "nbformat_minor": 2
}
