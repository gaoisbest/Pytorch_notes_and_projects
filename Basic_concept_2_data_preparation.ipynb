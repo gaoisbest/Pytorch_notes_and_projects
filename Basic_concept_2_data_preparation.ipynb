{
 "cells": [
  {
   "cell_type": "code",
   "execution_count": 1,
   "metadata": {},
   "outputs": [],
   "source": [
    "import torch\n",
    "from torch.utils.data import Dataset, DataLoader\n",
    "from tqdm import tqdm"
   ]
  },
  {
   "cell_type": "markdown",
   "metadata": {},
   "source": [
    "# Dataset\n",
    "- `torch.utils.data.Dataset` is an **abstract** class that represent a dataset\n",
    "    - Override `__len__` and `__getitem__` methods\n",
    "- `torch.utils.data.DataLoader` wraps a dataset and provides access to the data"
   ]
  },
  {
   "cell_type": "markdown",
   "metadata": {},
   "source": [
    "# Customer dataset"
   ]
  },
  {
   "cell_type": "code",
   "execution_count": 2,
   "metadata": {},
   "outputs": [],
   "source": [
    "class MyData(Dataset):\n",
    "    def __init__(self, input_data):\n",
    "        self.data=input_data\n",
    "    \n",
    "    def __getitem__(self, index):\n",
    "        return self.data[index], index, index ** 2\n",
    "    \n",
    "    def __len__(self):\n",
    "        return len(self.data)"
   ]
  },
  {
   "cell_type": "markdown",
   "metadata": {},
   "source": [
    "# DataLoader"
   ]
  },
  {
   "cell_type": "code",
   "execution_count": 6,
   "metadata": {},
   "outputs": [
    {
     "name": "stdout",
     "output_type": "stream",
     "text": [
      "Total batches:  3\n"
     ]
    },
    {
     "data": {
      "text/plain": [
       "[('e', 'h', 'd'), tensor([4, 7, 3]), tensor([16, 49,  9])]"
      ]
     },
     "execution_count": 6,
     "metadata": {},
     "output_type": "execute_result"
    }
   ],
   "source": [
    "input_dict = {0:'a', 1:'b', 2:'c', 3:'d', 4:'e', 5:'f', 6:'g', 7:'h'}\n",
    "train_set = MyData(input_dict)\n",
    "train_loader = DataLoader(dataset=train_set, batch_size=3, shuffle=True)\n",
    "print('Total batches: ', len(train_loader))\n",
    "print('Example')\n",
    "next(iter(train_loader))"
   ]
  },
  {
   "cell_type": "markdown",
   "metadata": {},
   "source": [
    "# Train"
   ]
  },
  {
   "cell_type": "code",
   "execution_count": 7,
   "metadata": {},
   "outputs": [
    {
     "name": "stderr",
     "output_type": "stream",
     "text": [
      "  0%|          | 0/7 [00:00<?, ?it/s]\n",
      "  0%|          | 0/3 [00:00<?, ?it/s]\u001b[A\n",
      "100%|██████████| 3/3 [00:00<00:00, 1016.31it/s]\u001b[A\n",
      "  0%|          | 0/3 [00:00<?, ?it/s]\u001b[A\n",
      "100%|██████████| 3/3 [00:00<00:00, 1170.50it/s]\u001b[A\n",
      "  0%|          | 0/3 [00:00<?, ?it/s]\u001b[A\n",
      "100%|██████████| 3/3 [00:00<00:00, 972.78it/s]\u001b[A\n",
      "  0%|          | 0/3 [00:00<?, ?it/s]\u001b[A\n",
      "100%|██████████| 3/3 [00:00<00:00, 1332.09it/s]\u001b[A\n",
      "  0%|          | 0/3 [00:00<?, ?it/s]\u001b[A\n",
      "100%|██████████| 3/3 [00:00<00:00, 1588.95it/s]\u001b[A\n",
      "  0%|          | 0/3 [00:00<?, ?it/s]\u001b[A\n",
      "100%|██████████| 3/3 [00:00<00:00, 653.73it/s]\u001b[A\n",
      "  0%|          | 0/3 [00:00<?, ?it/s]\u001b[A\n",
      "100%|██████████| 7/7 [00:00<00:00, 67.86it/s]]\u001b[A"
     ]
    },
    {
     "name": "stdout",
     "output_type": "stream",
     "text": [
      "Epoch:  0\n",
      "----------\n",
      "('h', 'd', 'b')\n",
      "tensor([7, 3, 1])\n",
      "tensor([49,  9,  1])\n",
      "----------\n",
      "('a', 'e', 'f')\n",
      "tensor([0, 4, 5])\n",
      "tensor([ 0, 16, 25])\n",
      "----------\n",
      "('g', 'c')\n",
      "tensor([6, 2])\n",
      "tensor([36,  4])\n",
      "Epoch:  1\n",
      "----------\n",
      "('h', 'c', 'e')\n",
      "tensor([7, 2, 4])\n",
      "tensor([49,  4, 16])\n",
      "----------\n",
      "('a', 'b', 'd')\n",
      "tensor([0, 1, 3])\n",
      "tensor([0, 1, 9])\n",
      "----------\n",
      "('g', 'f')\n",
      "tensor([6, 5])\n",
      "tensor([36, 25])\n",
      "Epoch:  2\n",
      "----------\n",
      "('c', 'h', 'a')\n",
      "tensor([2, 7, 0])\n",
      "tensor([ 4, 49,  0])\n",
      "----------\n",
      "('g', 'b', 'e')\n",
      "tensor([6, 1, 4])\n",
      "tensor([36,  1, 16])\n",
      "----------\n",
      "('f', 'd')\n",
      "tensor([5, 3])\n",
      "tensor([25,  9])\n",
      "Epoch:  3\n",
      "----------\n",
      "('g', 'c', 'b')\n",
      "tensor([6, 2, 1])\n",
      "tensor([36,  4,  1])\n",
      "----------\n",
      "('h', 'd', 'e')\n",
      "tensor([7, 3, 4])\n",
      "tensor([49,  9, 16])\n",
      "----------\n",
      "('f', 'a')\n",
      "tensor([5, 0])\n",
      "tensor([25,  0])\n",
      "Epoch:  4\n",
      "----------\n",
      "('f', 'b', 'c')\n",
      "tensor([5, 1, 2])\n",
      "tensor([25,  1,  4])\n",
      "----------\n",
      "('e', 'g', 'h')\n",
      "tensor([4, 6, 7])\n",
      "tensor([16, 36, 49])\n",
      "----------\n",
      "('a', 'd')\n",
      "tensor([0, 3])\n",
      "tensor([0, 9])\n",
      "Epoch:  5\n",
      "----------\n",
      "('a', 'h', 'f')\n",
      "tensor([0, 7, 5])\n",
      "tensor([ 0, 49, 25])\n",
      "----------\n",
      "('b', 'd', 'e')\n",
      "tensor([1, 3, 4])\n",
      "tensor([ 1,  9, 16])\n",
      "----------\n",
      "('g', 'c')\n",
      "tensor([6, 2])\n",
      "tensor([36,  4])\n",
      "Epoch:  6\n",
      "----------\n",
      "('f', 'c', 'b')\n",
      "tensor([5, 2, 1])\n",
      "tensor([25,  4,  1])\n",
      "----------\n",
      "('g', 'h', 'd')\n",
      "tensor([6, 7, 3])\n",
      "tensor([36, 49,  9])\n",
      "----------\n",
      "('e', 'a')\n",
      "tensor([4, 0])\n",
      "tensor([16,  0])\n"
     ]
    },
    {
     "name": "stderr",
     "output_type": "stream",
     "text": [
      "\n"
     ]
    }
   ],
   "source": [
    "for epoch in tqdm(range(7)):\n",
    "    print('Epoch: ', str(epoch))\n",
    "    for batch_x, batch_y, batch_pos in tqdm(train_loader):\n",
    "        print('-'*10)\n",
    "        print(batch_x)\n",
    "        print(batch_y)\n",
    "        print(batch_pos)"
   ]
  },
  {
   "cell_type": "code",
   "execution_count": null,
   "metadata": {},
   "outputs": [],
   "source": []
  }
 ],
 "metadata": {
  "kernelspec": {
   "display_name": "Python 3",
   "language": "python",
   "name": "python3"
  },
  "language_info": {
   "codemirror_mode": {
    "name": "ipython",
    "version": 3
   },
   "file_extension": ".py",
   "mimetype": "text/x-python",
   "name": "python",
   "nbconvert_exporter": "python",
   "pygments_lexer": "ipython3",
   "version": "3.6.8"
  }
 },
 "nbformat": 4,
 "nbformat_minor": 2
}
