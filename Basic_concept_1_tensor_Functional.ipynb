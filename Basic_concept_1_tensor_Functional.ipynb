{
 "cells": [
  {
   "cell_type": "code",
   "execution_count": 1,
   "metadata": {},
   "outputs": [],
   "source": [
    "%matplotlib inline\n",
    "import matplotlib.pyplot as plt\n",
    "import torch\n",
    "import torch.nn.functional as F\n",
    "import numpy as np"
   ]
  },
  {
   "cell_type": "markdown",
   "metadata": {},
   "source": [
    "# Tensor\n",
    "\n",
    "- Three attributes: `data`, `grad` and `grad_fn`\n",
    "- `requires_grad=True` means track all operations on it, and `.backward()` will update gradients automatically. The arrtibute `.grad` stores the gradients of the tensor.\n",
    "- `.detach()` detaches the tensor from computation history. When **evaluating the model**, `with torch.no_grad():` block is useful to prevent updating tensors with `requires_grad=True`."
   ]
  },
  {
   "cell_type": "code",
   "execution_count": 2,
   "metadata": {},
   "outputs": [
    {
     "name": "stdout",
     "output_type": "stream",
     "text": [
      "x:  tensor([[1., 1.],\n",
      "        [1., 1.]])\n",
      "x dtype:  torch.float32\n",
      "x device:  cpu\n",
      "x reshape shape:  torch.Size([1, 4])\n",
      "x requires_grad:  False\n",
      "x grad_fn:  None\n",
      "==========\n",
      "y:  tensor([[3., 3.],\n",
      "        [3., 3.]], grad_fn=<AddBackward>)\n",
      "y requires_grad:  True\n",
      "y grad_fn:  <AddBackward object at 0x112d7ea90>\n",
      "tensor([[0.2500, 0.2500],\n",
      "        [0.2500, 0.2500]])\n"
     ]
    }
   ],
   "source": [
    "x = torch.ones(2, 2)\n",
    "\n",
    "print('x: ', x)\n",
    "print('x dtype: ', x.dtype)\n",
    "print('x device: ', x.device)\n",
    "print('x reshape shape: ', x.reshape(1,4).shape)\n",
    "print('x requires_grad: ', x.requires_grad)\n",
    "\n",
    "# set requires_grad=True inplace\n",
    "x.requires_grad_(True)\n",
    "\n",
    "print('x grad_fn: ', x.grad_fn)\n",
    "\n",
    "print('='*10)\n",
    "\n",
    "# y is created by an operation\n",
    "y = torch.add(x, 2)\n",
    "print('y: ', y)\n",
    "print('y requires_grad: ', y.requires_grad)\n",
    "print('y grad_fn: ', y.grad_fn)\n",
    "\n",
    "out = torch.mean(y)\n",
    "out.backward()\n",
    "print(x.grad)"
   ]
  },
  {
   "cell_type": "markdown",
   "metadata": {},
   "source": [
    "# Sharing memory for performance: copy vs share"
   ]
  },
  {
   "cell_type": "code",
   "execution_count": 3,
   "metadata": {},
   "outputs": [
    {
     "name": "stdout",
     "output_type": "stream",
     "text": [
      "tensor([1., 2., 3.])\n",
      "tensor([1, 2, 3])\n",
      "tensor([1, 2, 3])\n",
      "tensor([1, 2, 3])\n"
     ]
    }
   ],
   "source": [
    "a = np.array([1, 2, 3])\n",
    "t1 = torch.Tensor(a)\n",
    "\n",
    "# Perferred copy operation\n",
    "t2 = torch.tensor(a)\n",
    "\n",
    "# Perfered share operation\n",
    "t3 = torch.as_tensor(a)\n",
    "\n",
    "t4 = torch.from_numpy(a)\n",
    "\n",
    "# copy\n",
    "print(t1)\n",
    "print(t2)\n",
    "\n",
    "# share\n",
    "print(t3)\n",
    "print(t4)"
   ]
  },
  {
   "cell_type": "code",
   "execution_count": 4,
   "metadata": {},
   "outputs": [
    {
     "name": "stdout",
     "output_type": "stream",
     "text": [
      "tensor([1., 2., 3.])\n",
      "tensor([1, 2, 3])\n",
      "tensor([0, 0, 0])\n",
      "tensor([0, 0, 0])\n"
     ]
    }
   ],
   "source": [
    "a[0] = 0\n",
    "a[1] = 0\n",
    "a[2] = 0\n",
    "\n",
    "# copy\n",
    "print(t1)\n",
    "print(t2)\n",
    "\n",
    "# share\n",
    "print(t3)\n",
    "print(t4)"
   ]
  },
  {
   "cell_type": "markdown",
   "metadata": {},
   "source": [
    "# torch.nn.functional"
   ]
  },
  {
   "cell_type": "code",
   "execution_count": 5,
   "metadata": {},
   "outputs": [
    {
     "name": "stdout",
     "output_type": "stream",
     "text": [
      "x shape: torch.Size([100])\n",
      "reshape x size: torch.Size([2, 50])\n"
     ]
    },
    {
     "name": "stderr",
     "output_type": "stream",
     "text": [
      "/anaconda3/lib/python3.6/site-packages/torch/nn/functional.py:1006: UserWarning: nn.functional.sigmoid is deprecated. Use torch.sigmoid instead.\n",
      "  warnings.warn(\"nn.functional.sigmoid is deprecated. Use torch.sigmoid instead.\")\n",
      "/anaconda3/lib/python3.6/site-packages/torch/nn/functional.py:995: UserWarning: nn.functional.tanh is deprecated. Use torch.tanh instead.\n",
      "  warnings.warn(\"nn.functional.tanh is deprecated. Use torch.tanh instead.\")\n"
     ]
    }
   ],
   "source": [
    "x = np.linspace(-3, 3, 100)\n",
    "\n",
    "# convert numpy array to tensor\n",
    "# factory function\n",
    "# specify dtype\n",
    "x = torch.tensor(x, dtype=torch.float32)\n",
    "\n",
    "print('x shape:', x.shape)\n",
    "print('reshape x size:', x.reshape(2, -1).shape)\n",
    "\n",
    "# convert tensor to numpy array\n",
    "x_data = x.data.numpy()\n",
    "\n",
    "# relu \n",
    "y_relu = F.relu(x).data.numpy()\n",
    "# leaky relu\n",
    "y_leaky_relu = F.leaky_relu(x, negative_slope=0.1).data.numpy()\n",
    "# sigmoid\n",
    "y_sigmoid = F.sigmoid(x).data.numpy()\n",
    "# tanh\n",
    "y_tanh = F.tanh(x).data.numpy()"
   ]
  },
  {
   "cell_type": "code",
   "execution_count": 6,
   "metadata": {},
   "outputs": [
    {
     "data": {
      "text/plain": [
       "<matplotlib.legend.Legend at 0x114edad30>"
      ]
     },
     "execution_count": 6,
     "metadata": {},
     "output_type": "execute_result"
    },
    {
     "data": {
      "image/png": "[encoded data removed]",
      "text/plain": [
       "<matplotlib.figure.Figure at 0x112db9a58>"
      ]
     },
     "metadata": {},
     "output_type": "display_data"
    }
   ],
   "source": [
    "plt.figure(1, figsize=(8, 6))\n",
    "\n",
    "plt.subplot(221)\n",
    "plt.plot(x_data, y_relu, c='red', label='relu')\n",
    "plt.ylim(-1, 3)\n",
    "plt.legend(loc='best')\n",
    "\n",
    "plt.subplot(222)\n",
    "plt.plot(x_data, y_leaky_relu, c='green', label='leaky relu')\n",
    "plt.ylim(-1, 3)\n",
    "plt.legend(loc='best')\n",
    "\n",
    "plt.subplot(223)\n",
    "plt.plot(x_data, y_sigmoid, c='yellow', label='sigmoid')\n",
    "plt.ylim(0, 1)\n",
    "plt.legend(loc='best')\n",
    "\n",
    "plt.subplot(224)\n",
    "plt.plot(x_data, y_tanh, c='purple', label='tanh')\n",
    "plt.ylim(-1, 1)\n",
    "plt.legend(loc='best')"
   ]
  },
  {
   "cell_type": "code",
   "execution_count": null,
   "metadata": {},
   "outputs": [],
   "source": []
  }
 ],
 "metadata": {
  "kernelspec": {
   "display_name": "Python 3",
   "language": "python",
   "name": "python3"
  },
  "language_info": {
   "codemirror_mode": {
    "name": "ipython",
    "version": 3
   },
   "file_extension": ".py",
   "mimetype": "text/x-python",
   "name": "python",
   "nbconvert_exporter": "python",
   "pygments_lexer": "ipython3",
   "version": "3.6.4"
  }
 },
 "nbformat": 4,
 "nbformat_minor": 2
}
