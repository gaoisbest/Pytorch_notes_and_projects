{
 "cells": [
  {
   "cell_type": "markdown",
   "metadata": {},
   "source": [
    "There are two strategies about saving the trained model. And stratege 1 is perfered. See: https://github.com/pytorch/pytorch/blob/761d6799beb3afa03657a71776412a2171ee7533/docs/source/notes/serialization.rst"
   ]
  },
  {
   "cell_type": "code",
   "execution_count": 1,
   "metadata": {},
   "outputs": [],
   "source": [
    "import torch\n",
    "import torch.nn as nn\n",
    "import torch.nn.functional as F\n",
    "import torch.optim as optim\n",
    "import numpy as np"
   ]
  },
  {
   "cell_type": "markdown",
   "metadata": {},
   "source": [
    "First define the model using `nn.Sequential`"
   ]
  },
  {
   "cell_type": "code",
   "execution_count": 2,
   "metadata": {},
   "outputs": [
    {
     "name": "stdout",
     "output_type": "stream",
     "text": [
      "Sequential(\n",
      "  (0): Linear(in_features=1, out_features=10, bias=True)\n",
      "  (1): ReLU()\n",
      "  (2): Linear(in_features=10, out_features=1, bias=True)\n",
      ")\n",
      "OrderedDict([('0.weight', tensor([[ 0.8862],\n",
      "        [-0.0344],\n",
      "        [ 0.8926],\n",
      "        [ 0.0268],\n",
      "        [-0.6389],\n",
      "        [ 0.3824],\n",
      "        [-0.3421],\n",
      "        [ 0.2993],\n",
      "        [-0.9880],\n",
      "        [-0.2700]])), ('0.bias', tensor([ 0.7253,  0.0352,  0.3389,  0.0180,  0.2395,  0.5892,  0.1273,\n",
      "        -0.3303,  0.7413,  0.2003])), ('2.weight', tensor([[-0.0116,  0.1926, -0.2046,  0.1267,  0.0477,  0.1298, -0.2171,\n",
      "         -0.0818,  0.1190,  0.0255]])), ('2.bias', tensor([-0.1295]))])\n"
     ]
    }
   ],
   "source": [
    "regressionNet = nn.Sequential(\n",
    "    nn.Linear(1, 10),\n",
    "    # ReLU is a class\n",
    "    nn.ReLU(),\n",
    "    nn.Linear(10, 1)\n",
    ")\n",
    "print(regressionNet)\n",
    "print(regressionNet.state_dict())"
   ]
  },
  {
   "cell_type": "markdown",
   "metadata": {},
   "source": [
    "## Strategy 1: save model parameters"
   ]
  },
  {
   "cell_type": "code",
   "execution_count": 3,
   "metadata": {},
   "outputs": [],
   "source": [
    "torch.save(regressionNet.state_dict(), 'model_parameters.pt')"
   ]
  },
  {
   "cell_type": "markdown",
   "metadata": {},
   "source": [
    "Then, `new` a model, and load the trained parameters."
   ]
  },
  {
   "cell_type": "code",
   "execution_count": 4,
   "metadata": {},
   "outputs": [
    {
     "name": "stdout",
     "output_type": "stream",
     "text": [
      "Sequential(\n",
      "  (0): Linear(in_features=1, out_features=10, bias=True)\n",
      "  (1): ReLU()\n",
      "  (2): Linear(in_features=10, out_features=1, bias=True)\n",
      ")\n",
      "OrderedDict([('0.weight', tensor([[ 0.8862],\n",
      "        [-0.0344],\n",
      "        [ 0.8926],\n",
      "        [ 0.0268],\n",
      "        [-0.6389],\n",
      "        [ 0.3824],\n",
      "        [-0.3421],\n",
      "        [ 0.2993],\n",
      "        [-0.9880],\n",
      "        [-0.2700]])), ('0.bias', tensor([ 0.7253,  0.0352,  0.3389,  0.0180,  0.2395,  0.5892,  0.1273,\n",
      "        -0.3303,  0.7413,  0.2003])), ('2.weight', tensor([[-0.0116,  0.1926, -0.2046,  0.1267,  0.0477,  0.1298, -0.2171,\n",
      "         -0.0818,  0.1190,  0.0255]])), ('2.bias', tensor([-0.1295]))])\n"
     ]
    }
   ],
   "source": [
    "new_regressionNet = nn.Sequential(\n",
    "    nn.Linear(1, 10),\n",
    "    # ReLU is a class\n",
    "    nn.ReLU(),\n",
    "    nn.Linear(10, 1)\n",
    ")\n",
    "print(new_regressionNet)\n",
    "new_regressionNet.load_state_dict(torch.load('model_parameters.pt'))\n",
    "print(new_regressionNet.state_dict())"
   ]
  },
  {
   "cell_type": "markdown",
   "metadata": {},
   "source": [
    "## Strategy 2: save whole model"
   ]
  },
  {
   "cell_type": "code",
   "execution_count": 5,
   "metadata": {},
   "outputs": [],
   "source": [
    "torch.save(regressionNet, 'model.pt')"
   ]
  },
  {
   "cell_type": "markdown",
   "metadata": {},
   "source": [
    "`New` a model is **not** necessary now."
   ]
  },
  {
   "cell_type": "code",
   "execution_count": 6,
   "metadata": {},
   "outputs": [],
   "source": [
    "new_regression_model = torch.load('model.pt')"
   ]
  },
  {
   "cell_type": "code",
   "execution_count": 7,
   "metadata": {},
   "outputs": [
    {
     "name": "stdout",
     "output_type": "stream",
     "text": [
      "OrderedDict([('0.weight', tensor([[ 0.8862],\n",
      "        [-0.0344],\n",
      "        [ 0.8926],\n",
      "        [ 0.0268],\n",
      "        [-0.6389],\n",
      "        [ 0.3824],\n",
      "        [-0.3421],\n",
      "        [ 0.2993],\n",
      "        [-0.9880],\n",
      "        [-0.2700]])), ('0.bias', tensor([ 0.7253,  0.0352,  0.3389,  0.0180,  0.2395,  0.5892,  0.1273,\n",
      "        -0.3303,  0.7413,  0.2003])), ('2.weight', tensor([[-0.0116,  0.1926, -0.2046,  0.1267,  0.0477,  0.1298, -0.2171,\n",
      "         -0.0818,  0.1190,  0.0255]])), ('2.bias', tensor([-0.1295]))])\n"
     ]
    }
   ],
   "source": [
    "print(new_regression_model.state_dict())"
   ]
  },
  {
   "cell_type": "code",
   "execution_count": null,
   "metadata": {},
   "outputs": [],
   "source": []
  }
 ],
 "metadata": {
  "kernelspec": {
   "display_name": "Python 3",
   "language": "python",
   "name": "python3"
  },
  "language_info": {
   "codemirror_mode": {
    "name": "ipython",
    "version": 3
   },
   "file_extension": ".py",
   "mimetype": "text/x-python",
   "name": "python",
   "nbconvert_exporter": "python",
   "pygments_lexer": "ipython3",
   "version": "3.6.4"
  }
 },
 "nbformat": 4,
 "nbformat_minor": 2
}
